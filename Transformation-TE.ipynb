{
 "cells": [
  {
   "cell_type": "code",
   "execution_count": 19,
   "id": "4a19867c",
   "metadata": {
    "collapsed": true
   },
   "outputs": [
    {
     "name": "stdout",
     "output_type": "stream",
     "text": [
      "Collecting econml\n",
      "  Downloading econml-0.13.1-cp39-cp39-manylinux_2_17_x86_64.manylinux2014_x86_64.whl (3.5 MB)\n",
      "\u001b[2K     \u001b[90m━━━━━━━━━━━━━━━━━━━━━━━━━━━━━━━━━━━━━━━━\u001b[0m \u001b[32m3.5/3.5 MB\u001b[0m \u001b[31m32.6 MB/s\u001b[0m eta \u001b[36m0:00:00\u001b[0m:00:01\u001b[0m\n",
      "\u001b[?25hCollecting dowhy<0.8\n",
      "  Downloading dowhy-0.7.1-py3-none-any.whl (164 kB)\n",
      "\u001b[2K     \u001b[90m━━━━━━━━━━━━━━━━━━━━━━━━━━━━━━━━━━━━━━\u001b[0m \u001b[32m164.8/164.8 kB\u001b[0m \u001b[31m10.1 MB/s\u001b[0m eta \u001b[36m0:00:00\u001b[0m\n",
      "\u001b[?25hCollecting statsmodels>=0.10\n",
      "  Downloading statsmodels-0.13.2-cp39-cp39-manylinux_2_17_x86_64.manylinux2014_x86_64.whl (9.9 MB)\n",
      "\u001b[2K     \u001b[90m━━━━━━━━━━━━━━━━━━━━━━━━━━━━━━━━━━━━━━━━\u001b[0m \u001b[32m9.9/9.9 MB\u001b[0m \u001b[31m68.7 MB/s\u001b[0m eta \u001b[36m0:00:00\u001b[0m:00:01\u001b[0m00:01\u001b[0m\n",
      "\u001b[?25hCollecting lightgbm\n",
      "  Downloading lightgbm-3.3.2-py3-none-manylinux1_x86_64.whl (2.0 MB)\n",
      "\u001b[2K     \u001b[90m━━━━━━━━━━━━━━━━━━━━━━━━━━━━━━━━━━━━━━━━\u001b[0m \u001b[32m2.0/2.0 MB\u001b[0m \u001b[31m30.5 MB/s\u001b[0m eta \u001b[36m0:00:00\u001b[0m:00:01\u001b[0m\n",
      "\u001b[?25hRequirement already satisfied: scikit-learn<1.2,>0.22.0 in /anaconda/envs/tf2/lib/python3.9/site-packages (from econml) (1.1.2)\n",
      "Requirement already satisfied: joblib>=0.13.0 in /anaconda/envs/tf2/lib/python3.9/site-packages (from econml) (1.1.0)\n",
      "Requirement already satisfied: scipy>1.4.0 in /anaconda/envs/tf2/lib/python3.9/site-packages (from econml) (1.9.0)\n",
      "Collecting shap<0.41.0,>=0.38.1\n",
      "  Downloading shap-0.40.0-cp39-cp39-manylinux2010_x86_64.whl (567 kB)\n",
      "\u001b[2K     \u001b[90m━━━━━━━━━━━━━━━━━━━━━━━━━━━━━━━━━━━━━━\u001b[0m \u001b[32m567.6/567.6 kB\u001b[0m \u001b[31m18.7 MB/s\u001b[0m eta \u001b[36m0:00:00\u001b[0m\n",
      "\u001b[?25hCollecting sparse\n",
      "  Downloading sparse-0.13.0-py2.py3-none-any.whl (77 kB)\n",
      "\u001b[2K     \u001b[90m━━━━━━━━━━━━━━━━━━━━━━━━━━━━━━━━━━━━━━━━\u001b[0m \u001b[32m77.8/77.8 kB\u001b[0m \u001b[31m5.6 MB/s\u001b[0m eta \u001b[36m0:00:00\u001b[0m\n",
      "\u001b[?25hRequirement already satisfied: pandas in /anaconda/envs/tf2/lib/python3.9/site-packages (from econml) (1.4.3)\n",
      "Requirement already satisfied: numpy in /anaconda/envs/tf2/lib/python3.9/site-packages (from econml) (1.23.2)\n",
      "Collecting sympy>=1.4\n",
      "  Downloading sympy-1.11.1-py3-none-any.whl (6.5 MB)\n",
      "\u001b[2K     \u001b[90m━━━━━━━━━━━━━━━━━━━━━━━━━━━━━━━━━━━━━━━━\u001b[0m \u001b[32m6.5/6.5 MB\u001b[0m \u001b[31m48.5 MB/s\u001b[0m eta \u001b[36m0:00:00\u001b[0m:00:01\u001b[0m\n",
      "\u001b[?25hCollecting pydot>=1.4\n",
      "  Downloading pydot-1.4.2-py2.py3-none-any.whl (21 kB)\n",
      "Collecting networkx>=2.0\n",
      "  Downloading networkx-2.8.6-py3-none-any.whl (2.0 MB)\n",
      "\u001b[2K     \u001b[90m━━━━━━━━━━━━━━━━━━━━━━━━━━━━━━━━━━━━━━━━\u001b[0m \u001b[32m2.0/2.0 MB\u001b[0m \u001b[31m39.0 MB/s\u001b[0m eta \u001b[36m0:00:00\u001b[0m:00:01\u001b[0m\n",
      "\u001b[?25hRequirement already satisfied: pytz>=2020.1 in /anaconda/envs/tf2/lib/python3.9/site-packages (from pandas->econml) (2022.2.1)\n",
      "Requirement already satisfied: python-dateutil>=2.8.1 in /anaconda/envs/tf2/lib/python3.9/site-packages (from pandas->econml) (2.8.2)\n",
      "Requirement already satisfied: threadpoolctl>=2.0.0 in /anaconda/envs/tf2/lib/python3.9/site-packages (from scikit-learn<1.2,>0.22.0->econml) (3.1.0)\n",
      "Requirement already satisfied: packaging>20.9 in /anaconda/envs/tf2/lib/python3.9/site-packages (from shap<0.41.0,>=0.38.1->econml) (21.3)\n",
      "Collecting cloudpickle\n",
      "  Downloading cloudpickle-2.2.0-py3-none-any.whl (25 kB)\n",
      "Requirement already satisfied: tqdm>4.25.0 in /anaconda/envs/tf2/lib/python3.9/site-packages (from shap<0.41.0,>=0.38.1->econml) (4.64.0)\n",
      "Collecting slicer==0.0.7\n",
      "  Downloading slicer-0.0.7-py3-none-any.whl (14 kB)\n",
      "Collecting numba\n",
      "  Downloading numba-0.56.2-cp39-cp39-manylinux2014_x86_64.manylinux_2_17_x86_64.whl (3.5 MB)\n",
      "\u001b[2K     \u001b[90m━━━━━━━━━━━━━━━━━━━━━━━━━━━━━━━━━━━━━━━━\u001b[0m \u001b[32m3.5/3.5 MB\u001b[0m \u001b[31m38.6 MB/s\u001b[0m eta \u001b[36m0:00:00\u001b[0m:00:01\u001b[0m\n",
      "\u001b[?25hCollecting patsy>=0.5.2\n",
      "  Downloading patsy-0.5.2-py2.py3-none-any.whl (233 kB)\n",
      "\u001b[2K     \u001b[90m━━━━━━━━━━━━━━━━━━━━━━━━━━━━━━━━━━━━━━\u001b[0m \u001b[32m233.7/233.7 kB\u001b[0m \u001b[31m13.1 MB/s\u001b[0m eta \u001b[36m0:00:00\u001b[0m\n",
      "\u001b[?25hRequirement already satisfied: wheel in /anaconda/envs/tf2/lib/python3.9/site-packages (from lightgbm->econml) (0.37.1)\n",
      "Collecting setuptools<60\n",
      "  Downloading setuptools-59.8.0-py3-none-any.whl (952 kB)\n",
      "\u001b[2K     \u001b[90m━━━━━━━━━━━━━━━━━━━━━━━━━━━━━━━━━━━━━━\u001b[0m \u001b[32m952.8/952.8 kB\u001b[0m \u001b[31m19.1 MB/s\u001b[0m eta \u001b[36m0:00:00\u001b[0m00:01\u001b[0m\n",
      "\u001b[?25hCollecting llvmlite<0.40,>=0.39.0dev0\n",
      "  Downloading llvmlite-0.39.1-cp39-cp39-manylinux_2_17_x86_64.manylinux2014_x86_64.whl (34.6 MB)\n",
      "\u001b[2K     \u001b[90m━━━━━━━━━━━━━━━━━━━━━━━━━━━━━━━━━━━━━━━━\u001b[0m \u001b[32m34.6/34.6 MB\u001b[0m \u001b[31m13.8 MB/s\u001b[0m eta \u001b[36m0:00:00\u001b[0m00:01\u001b[0m00:01\u001b[0m\n",
      "\u001b[?25hRequirement already satisfied: pyparsing!=3.0.5,>=2.0.2 in /anaconda/envs/tf2/lib/python3.9/site-packages (from packaging>20.9->shap<0.41.0,>=0.38.1->econml) (3.0.9)\n",
      "Requirement already satisfied: six in /anaconda/envs/tf2/lib/python3.9/site-packages (from patsy>=0.5.2->statsmodels>=0.10->econml) (1.16.0)\n",
      "Collecting mpmath>=0.19\n",
      "  Downloading mpmath-1.2.1-py3-none-any.whl (532 kB)\n",
      "\u001b[2K     \u001b[90m━━━━━━━━━━━━━━━━━━━━━━━━━━━━━━━━━━━━━━\u001b[0m \u001b[32m532.6/532.6 kB\u001b[0m \u001b[31m13.2 MB/s\u001b[0m eta \u001b[36m0:00:00\u001b[0m00:01\u001b[0m\n",
      "\u001b[?25hInstalling collected packages: mpmath, sympy, slicer, setuptools, pydot, patsy, networkx, llvmlite, cloudpickle, numba, statsmodels, sparse, shap, lightgbm, dowhy, econml\n",
      "  Attempting uninstall: setuptools\n",
      "    Found existing installation: setuptools 63.4.1\n",
      "    Uninstalling setuptools-63.4.1:\n",
      "      Successfully uninstalled setuptools-63.4.1\n",
      "Successfully installed cloudpickle-2.2.0 dowhy-0.7.1 econml-0.13.1 lightgbm-3.3.2 llvmlite-0.39.1 mpmath-1.2.1 networkx-2.8.6 numba-0.56.2 patsy-0.5.2 pydot-1.4.2 setuptools-59.8.0 shap-0.40.0 slicer-0.0.7 sparse-0.13.0 statsmodels-0.13.2 sympy-1.11.1\n"
     ]
    }
   ],
   "source": [
    "!pip install econml"
   ]
  },
  {
   "cell_type": "code",
   "execution_count": 3,
   "id": "89434fa9",
   "metadata": {},
   "outputs": [
    {
     "name": "stderr",
     "output_type": "stream",
     "text": [
      "/anaconda/envs/tf2/lib/python3.9/site-packages/gensim/similarities/__init__.py:15: UserWarning: The gensim.similarities.levenshtein submodule is disabled, because the optional Levenshtein package <https://pypi.org/project/python-Levenshtein/> is unavailable. Install Levenhstein (e.g. `pip install python-Levenshtein`) to suppress this warning.\n",
      "  warnings.warn(msg)\n"
     ]
    }
   ],
   "source": [
    "from nlp_data_handle import *\n",
    "from transformer_debugger import *"
   ]
  },
  {
   "cell_type": "code",
   "execution_count": 14,
   "id": "a9796c01",
   "metadata": {},
   "outputs": [],
   "source": [
    "def get_nlptoy2_dataset(pval,num_sample,noise_ratio):\n",
    "\n",
    "    #Creating the data args\n",
    "    data_args=dict(\n",
    "                run_num = 1,\n",
    "                emb_path= \"glove-wiki-gigaword-100\",\n",
    "                topic_corr_list=[1.0,pval],\n",
    "                num_sample=num_sample,\n",
    "                noise_ratio=noise_ratio,\n",
    "                main_model_mode=\"non_causal\", \n",
    "                transformer_name=\"bert-base-uncased\",\n",
    "                max_len=50,\n",
    "                num_topics=2,\n",
    "                expt_meta_path=\"logs_nlptoy2\",\n",
    "                dtype=\"toynlp2\"\n",
    "    )\n",
    "    data_handler = DataHandleTransformer(data_args)\n",
    "    cat_fulldict = data_handler.toy_nlp_dataset_handler2(return_fulldict=True)\n",
    "    \n",
    "    return cat_fulldict,data_args,data_handler"
   ]
  },
  {
   "cell_type": "code",
   "execution_count": 15,
   "id": "4e1dee3a",
   "metadata": {},
   "outputs": [],
   "source": [
    "def get_nbowX_embedding(cat_fulldict,data_args,data_handler,num_hidden_layer,lr):\n",
    "    model_args=dict(\n",
    "                train_emb=False,\n",
    "                normalize_emb=True,\n",
    "                num_hidden_layer=num_hidden_layer,\n",
    "                bert_as_encoder=False,\n",
    "                loss_type=\"x_entropy\",\n",
    "                l2_lambd=0.0,\n",
    "                removal_mode=None,\n",
    "                lr=lr,\n",
    "                treated_topic=treated_topic,\n",
    "\n",
    "    )\n",
    "    classifier_main = SimpleNBOW(data_args,model_args,data_handler)\n",
    "    classifier_main.compile(\n",
    "            keras.optimizers.Adam(learning_rate=model_args[\"lr\"])\n",
    "    )\n",
    "\n",
    "\n",
    "    #Getting the X-embedding form the text\n",
    "    X_input_idx = cat_fulldict[\"input_idx\"]\n",
    "    X_emb = classifier_main.pre_encoder_layer(X_input_idx,None).numpy()\n",
    "    \n",
    "    return X_emb,model_args"
   ]
  },
  {
   "cell_type": "markdown",
   "id": "d085e8cc",
   "metadata": {},
   "source": [
    "## Linear DML Estimator"
   ]
  },
  {
   "cell_type": "code",
   "execution_count": 11,
   "id": "f1061760",
   "metadata": {},
   "outputs": [],
   "source": [
    "from econml.dml import DML, LinearDML, SparseLinearDML, CausalForestDML\n",
    "from sklearn.linear_model import (Lasso, LassoCV, LogisticRegression,\n",
    "                                  LogisticRegressionCV,LinearRegression,\n",
    "                                 )\n",
    "from sklearn.ensemble import GradientBoostingRegressor,RandomForestRegressor,RandomForestClassifier\n",
    "\n",
    "\n",
    "\n",
    "def get_linear_dml_estimate(pval,num_sample,noise_ratio,num_hidden_layer,lr,treated_topic):\n",
    "    #Getting the dataset raw\n",
    "    cat_fulldict,data_args,data_handle = get_nlptoy2_dataset(pval,num_sample,noise_ratio)\n",
    "    \n",
    "    #Getting the dataset for the estimation\n",
    "    X_emb,model_args = get_nbowX_embedding(cat_fulldict,data_args,data_handle,num_hidden_layer,lr)\n",
    "    \n",
    "    X = X_emb\n",
    "    Y = cat_fulldict[\"label\"]\n",
    "    T = cat_fulldict[\"topic_label\"][:,model_args[\"treated_topic\"]]\n",
    "    \n",
    "    \n",
    "\n",
    "    #Creating the estimator\n",
    "    est = LinearDML(\n",
    "                model_y = RandomForestRegressor(),\n",
    "                model_t = RandomForestClassifier(min_samples_leaf=10),\n",
    "                discrete_treatment=True,\n",
    "                linear_first_stages=False,#Is it true\n",
    "                cv=6,\n",
    "    )\n",
    "    \n",
    "    est.fit(Y,T,X=X,W=X)\n",
    "    print(\"ATE: \",np.mean(est.effect(X)))\n",
    "\n",
    "    #Getting the interval\n",
    "    lb,ub = est.effect_interval(X, alpha=0.01)\n",
    "    print(\"ATE: ub,lb = \",np.mean(lb),\", \",np.mean(ub))\n",
    "    \n",
    "    result_dict = dict(\n",
    "            ate=np.mean(est.effect(X)),\n",
    "            lb=np.mean(lb),\n",
    "            ub=np.mean(ub)\n",
    "    )\n",
    "    \n",
    "    return result_dict"
   ]
  },
  {
   "cell_type": "code",
   "execution_count": 43,
   "id": "79b4b48b",
   "metadata": {},
   "outputs": [],
   "source": [
    "import matplotlib.pyplot as plt\n",
    "plt.rcParams['figure.figsize'] = [16, 4]\n",
    "\n",
    "\n",
    "\n",
    "def plot_one_pval_var(ax,pval_list,ate,ate_lb,ate_ub,treated_topic,noise_ratio):\n",
    "    #Plotting the mean line for a particular treatment and topic\n",
    "    ax.plot(pval_list,ate,marker=\"o\",ls=\"-.\",label=\"topic={}\".format(treated_topic))\n",
    "    ax.fill_between(pval_list,ate_lb,ate_ub,alpha=0.3)\n",
    "    \n",
    "    #Filling the plot details\n",
    "    ax.set_ylabel(\"ATE\")\n",
    "    ax.set_xlabel(\"pval [0.5,0.99)\")\n",
    "    ax.legend()\n",
    "    ax.grid(True)\n",
    "    ax.set_title(\"noise={}\".format(noise_ratio))\n",
    "#     ax.set_ylim(-1,1)\n",
    "    \n",
    "    \n",
    "\n",
    "def plot_one_result_set(all_result_dict,pval_list,treated_topics,num_sample,noise_list):\n",
    "    fig,ax = plt.subplots(1,len(noise_list))\n",
    "    \n",
    "    for nidx,noise_ratio in enumerate(noise_list):\n",
    "        for tidx,treated_topic in enumerate(treated_topics):\n",
    "            #Collecting the results for each pval\n",
    "            ate = [all_result_dict[(num_sample,noise_ratio,pval,treated_topic)][\"ate\"] for pval in pval_list]\n",
    "            ate_lb = [all_result_dict[(num_sample,noise_ratio,pval,treated_topic)][\"lb\"] for pval in pval_list]\n",
    "            ate_ub = [all_result_dict[(num_sample,noise_ratio,pval,treated_topic)][\"ub\"] for pval in pval_list]\n",
    "\n",
    "            #Plotting for this treated topic\n",
    "            plot_one_pval_var(ax[nidx],pval_list,ate,ate_lb,ate_ub,treated_topic,noise_ratio)\n",
    "    \n",
    "    plt.show()"
   ]
  },
  {
   "cell_type": "code",
   "execution_count": 47,
   "id": "36549557",
   "metadata": {
    "scrolled": true
   },
   "outputs": [
    {
     "name": "stdout",
     "output_type": "stream",
     "text": [
      "Loading the WordVectors via Gensim! Hold Tight!\n",
      "topic:0\tnum_pos:1000\tnum_neg:1000\n",
      "topic:1\tnum_pos:1000\tnum_neg:1000\n",
      "\n",
      "\n",
      "#############################################\n",
      "Printing the label correlation\n",
      "#############################################\n",
      "iidx:0\tjidx:1\tcorr:0.62\n",
      "iidx:0\tjidx:2\tcorr:0.48\n",
      "iidx:1\tjidx:2\tcorr:0.47\n",
      "Dumping the config in: logs_nlptoy2/config.json\n"
     ]
    },
    {
     "name": "stderr",
     "output_type": "stream",
     "text": [
      "Function get_feature_names is deprecated; get_feature_names is deprecated in 1.0 and will be removed in 1.2. Please use get_feature_names_out instead.\n"
     ]
    },
    {
     "name": "stdout",
     "output_type": "stream",
     "text": [
      "ATE:  0.025284775744729888\n",
      "ATE: ub,lb =  -0.38095311882782723 ,  0.43152267031728686\n",
      "Loading the WordVectors via Gensim! Hold Tight!\n",
      "topic:0\tnum_pos:1000\tnum_neg:1000\n",
      "topic:1\tnum_pos:1000\tnum_neg:1000\n",
      "\n",
      "\n",
      "#############################################\n",
      "Printing the label correlation\n",
      "#############################################\n",
      "iidx:0\tjidx:1\tcorr:0.62\n",
      "iidx:0\tjidx:2\tcorr:0.48\n",
      "iidx:1\tjidx:2\tcorr:0.47\n",
      "Dumping the config in: logs_nlptoy2/config.json\n"
     ]
    },
    {
     "name": "stderr",
     "output_type": "stream",
     "text": [
      "Function get_feature_names is deprecated; get_feature_names is deprecated in 1.0 and will be removed in 1.2. Please use get_feature_names_out instead.\n"
     ]
    },
    {
     "name": "stdout",
     "output_type": "stream",
     "text": [
      "ATE:  -0.01900592495627953\n",
      "ATE: ub,lb =  -0.41894676685418153 ,  0.3809349169416223\n",
      "Loading the WordVectors via Gensim! Hold Tight!\n",
      "topic:0\tnum_pos:1000\tnum_neg:1000\n",
      "topic:1\tnum_pos:1000\tnum_neg:1000\n",
      "\n",
      "\n",
      "#############################################\n",
      "Printing the label correlation\n",
      "#############################################\n",
      "iidx:0\tjidx:1\tcorr:0.62\n",
      "iidx:0\tjidx:2\tcorr:0.51\n",
      "iidx:1\tjidx:2\tcorr:0.51\n",
      "Dumping the config in: logs_nlptoy2/config.json\n"
     ]
    },
    {
     "name": "stderr",
     "output_type": "stream",
     "text": [
      "Function get_feature_names is deprecated; get_feature_names is deprecated in 1.0 and will be removed in 1.2. Please use get_feature_names_out instead.\n"
     ]
    },
    {
     "name": "stdout",
     "output_type": "stream",
     "text": [
      "ATE:  0.027035230181205308\n",
      "ATE: ub,lb =  -0.37883650433024213 ,  0.43290696469265266\n",
      "Loading the WordVectors via Gensim! Hold Tight!\n",
      "topic:0\tnum_pos:1000\tnum_neg:1000\n",
      "topic:1\tnum_pos:1000\tnum_neg:1000\n",
      "\n",
      "\n",
      "#############################################\n",
      "Printing the label correlation\n",
      "#############################################\n",
      "iidx:0\tjidx:1\tcorr:0.62\n",
      "iidx:0\tjidx:2\tcorr:0.51\n",
      "iidx:1\tjidx:2\tcorr:0.51\n",
      "Dumping the config in: logs_nlptoy2/config.json\n"
     ]
    },
    {
     "name": "stderr",
     "output_type": "stream",
     "text": [
      "Function get_feature_names is deprecated; get_feature_names is deprecated in 1.0 and will be removed in 1.2. Please use get_feature_names_out instead.\n"
     ]
    },
    {
     "name": "stdout",
     "output_type": "stream",
     "text": [
      "ATE:  -0.025889215946713246\n",
      "ATE: ub,lb =  -0.42868656902324886 ,  0.3769081371298223\n",
      "Loading the WordVectors via Gensim! Hold Tight!\n",
      "topic:0\tnum_pos:1000\tnum_neg:1000\n",
      "topic:1\tnum_pos:1000\tnum_neg:1000\n",
      "\n",
      "\n",
      "#############################################\n",
      "Printing the label correlation\n",
      "#############################################\n",
      "iidx:0\tjidx:1\tcorr:0.62\n",
      "iidx:0\tjidx:2\tcorr:0.55\n",
      "iidx:1\tjidx:2\tcorr:0.55\n",
      "Dumping the config in: logs_nlptoy2/config.json\n"
     ]
    },
    {
     "name": "stderr",
     "output_type": "stream",
     "text": [
      "Function get_feature_names is deprecated; get_feature_names is deprecated in 1.0 and will be removed in 1.2. Please use get_feature_names_out instead.\n"
     ]
    },
    {
     "name": "stdout",
     "output_type": "stream",
     "text": [
      "ATE:  0.029628508944178532\n",
      "ATE: ub,lb =  -0.37727643569457514 ,  0.4365334535829321\n",
      "Loading the WordVectors via Gensim! Hold Tight!\n",
      "topic:0\tnum_pos:1000\tnum_neg:1000\n",
      "topic:1\tnum_pos:1000\tnum_neg:1000\n",
      "\n",
      "\n",
      "#############################################\n",
      "Printing the label correlation\n",
      "#############################################\n",
      "iidx:0\tjidx:1\tcorr:0.62\n",
      "iidx:0\tjidx:2\tcorr:0.55\n",
      "iidx:1\tjidx:2\tcorr:0.55\n",
      "Dumping the config in: logs_nlptoy2/config.json\n"
     ]
    },
    {
     "name": "stderr",
     "output_type": "stream",
     "text": [
      "Function get_feature_names is deprecated; get_feature_names is deprecated in 1.0 and will be removed in 1.2. Please use get_feature_names_out instead.\n"
     ]
    },
    {
     "name": "stdout",
     "output_type": "stream",
     "text": [
      "ATE:  0.0036066744897765065\n",
      "ATE: ub,lb =  -0.40441135508356746 ,  0.4116247040631204\n",
      "Loading the WordVectors via Gensim! Hold Tight!\n",
      "topic:0\tnum_pos:1000\tnum_neg:1000\n",
      "topic:1\tnum_pos:1000\tnum_neg:1000\n",
      "\n",
      "\n",
      "#############################################\n",
      "Printing the label correlation\n",
      "#############################################\n",
      "iidx:0\tjidx:1\tcorr:0.62\n",
      "iidx:0\tjidx:2\tcorr:0.56\n",
      "iidx:1\tjidx:2\tcorr:0.58\n",
      "Dumping the config in: logs_nlptoy2/config.json\n"
     ]
    },
    {
     "name": "stderr",
     "output_type": "stream",
     "text": [
      "Function get_feature_names is deprecated; get_feature_names is deprecated in 1.0 and will be removed in 1.2. Please use get_feature_names_out instead.\n"
     ]
    },
    {
     "name": "stdout",
     "output_type": "stream",
     "text": [
      "ATE:  0.03796530904895348\n",
      "ATE: ub,lb =  -0.36194675550117755 ,  0.43787737359908446\n",
      "Loading the WordVectors via Gensim! Hold Tight!\n",
      "topic:0\tnum_pos:1000\tnum_neg:1000\n",
      "topic:1\tnum_pos:1000\tnum_neg:1000\n",
      "\n",
      "\n",
      "#############################################\n",
      "Printing the label correlation\n",
      "#############################################\n",
      "iidx:0\tjidx:1\tcorr:0.62\n",
      "iidx:0\tjidx:2\tcorr:0.56\n",
      "iidx:1\tjidx:2\tcorr:0.58\n",
      "Dumping the config in: logs_nlptoy2/config.json\n"
     ]
    },
    {
     "name": "stderr",
     "output_type": "stream",
     "text": [
      "Function get_feature_names is deprecated; get_feature_names is deprecated in 1.0 and will be removed in 1.2. Please use get_feature_names_out instead.\n"
     ]
    },
    {
     "name": "stdout",
     "output_type": "stream",
     "text": [
      "ATE:  8.365983746883932e-05\n",
      "ATE: ub,lb =  -0.4103231126512185 ,  0.4104904323261561\n",
      "Loading the WordVectors via Gensim! Hold Tight!\n",
      "topic:0\tnum_pos:1000\tnum_neg:1000\n",
      "topic:1\tnum_pos:1000\tnum_neg:1000\n",
      "\n",
      "\n",
      "#############################################\n",
      "Printing the label correlation\n",
      "#############################################\n",
      "iidx:0\tjidx:1\tcorr:0.62\n",
      "iidx:0\tjidx:2\tcorr:0.59\n",
      "iidx:1\tjidx:2\tcorr:0.61\n",
      "Dumping the config in: logs_nlptoy2/config.json\n"
     ]
    },
    {
     "name": "stderr",
     "output_type": "stream",
     "text": [
      "Function get_feature_names is deprecated; get_feature_names is deprecated in 1.0 and will be removed in 1.2. Please use get_feature_names_out instead.\n"
     ]
    },
    {
     "name": "stdout",
     "output_type": "stream",
     "text": [
      "ATE:  0.03622148543123339\n",
      "ATE: ub,lb =  -0.3679673082419112 ,  0.44041027910437786\n",
      "Loading the WordVectors via Gensim! Hold Tight!\n",
      "topic:0\tnum_pos:1000\tnum_neg:1000\n",
      "topic:1\tnum_pos:1000\tnum_neg:1000\n",
      "\n",
      "\n",
      "#############################################\n",
      "Printing the label correlation\n",
      "#############################################\n",
      "iidx:0\tjidx:1\tcorr:0.62\n",
      "iidx:0\tjidx:2\tcorr:0.59\n",
      "iidx:1\tjidx:2\tcorr:0.61\n",
      "Dumping the config in: logs_nlptoy2/config.json\n"
     ]
    },
    {
     "name": "stderr",
     "output_type": "stream",
     "text": [
      "Function get_feature_names is deprecated; get_feature_names is deprecated in 1.0 and will be removed in 1.2. Please use get_feature_names_out instead.\n"
     ]
    },
    {
     "name": "stdout",
     "output_type": "stream",
     "text": [
      "ATE:  0.02910566438849748\n",
      "ATE: ub,lb =  -0.39399795330099685 ,  0.4522092820779917\n",
      "Loading the WordVectors via Gensim! Hold Tight!\n",
      "topic:0\tnum_pos:1000\tnum_neg:1000\n",
      "topic:1\tnum_pos:1000\tnum_neg:1000\n",
      "\n",
      "\n",
      "#############################################\n",
      "Printing the label correlation\n",
      "#############################################\n",
      "iidx:0\tjidx:1\tcorr:0.62\n",
      "iidx:0\tjidx:2\tcorr:0.62\n",
      "iidx:1\tjidx:2\tcorr:0.62\n",
      "Dumping the config in: logs_nlptoy2/config.json\n"
     ]
    },
    {
     "name": "stderr",
     "output_type": "stream",
     "text": [
      "Function get_feature_names is deprecated; get_feature_names is deprecated in 1.0 and will be removed in 1.2. Please use get_feature_names_out instead.\n"
     ]
    },
    {
     "name": "stdout",
     "output_type": "stream",
     "text": [
      "ATE:  0.029188976783568264\n",
      "ATE: ub,lb =  -0.3852760489845017 ,  0.44365400255163806\n",
      "Loading the WordVectors via Gensim! Hold Tight!\n",
      "topic:0\tnum_pos:1000\tnum_neg:1000\n",
      "topic:1\tnum_pos:1000\tnum_neg:1000\n",
      "\n",
      "\n",
      "#############################################\n",
      "Printing the label correlation\n",
      "#############################################\n",
      "iidx:0\tjidx:1\tcorr:0.62\n",
      "iidx:0\tjidx:2\tcorr:0.62\n",
      "iidx:1\tjidx:2\tcorr:0.62\n",
      "Dumping the config in: logs_nlptoy2/config.json\n"
     ]
    },
    {
     "name": "stderr",
     "output_type": "stream",
     "text": [
      "Function get_feature_names is deprecated; get_feature_names is deprecated in 1.0 and will be removed in 1.2. Please use get_feature_names_out instead.\n"
     ]
    },
    {
     "name": "stdout",
     "output_type": "stream",
     "text": [
      "ATE:  0.03139537363987871\n",
      "ATE: ub,lb =  -0.3928499377985621 ,  0.45564068507831945\n"
     ]
    }
   ],
   "source": [
    "#Running the full experiment\n",
    "num_sample_list = [1000,]\n",
    "noise_list=[0.3,]\n",
    "pval_list =[0.5,0.6,0.7,0.8,0.9,0.99]\n",
    "treated_topics=[0,1]\n",
    "\n",
    "#Not being used\n",
    "num_hidden_layer=0\n",
    "lr=5e-3\n",
    "\n",
    "\n",
    "# all_result_dict=dict()\n",
    "\n",
    "for num_sample in num_sample_list:\n",
    "    for noise_ratio in noise_list:\n",
    "        for pval in pval_list:\n",
    "            for treated_topic in treated_topics:\n",
    "                result_dict=get_linear_dml_estimate(pval,num_sample,noise_ratio,num_hidden_layer,lr,treated_topic)\n",
    "                \n",
    "                all_result_dict[(num_sample,noise_ratio,pval,treated_topic)]=result_dict\n",
    "\n",
    "#\n",
    "            \n",
    "        "
   ]
  },
  {
   "cell_type": "code",
   "execution_count": 48,
   "id": "9f632811",
   "metadata": {},
   "outputs": [
    {
     "data": {
      "image/png": "[encoded data removed]",
      "text/plain": [
       "<Figure size 1152x288 with 3 Axes>"
      ]
     },
     "metadata": {
      "needs_background": "light"
     },
     "output_type": "display_data"
    }
   ],
   "source": [
    "noise_list=[0.0,0.1,0.3] \n",
    "plot_one_result_set(all_result_dict,pval_list,treated_topics,num_sample,noise_list)"
   ]
  },
  {
   "cell_type": "code",
   "execution_count": null,
   "id": "09a1153e",
   "metadata": {},
   "outputs": [],
   "source": []
  }
 ],
 "metadata": {
  "kernelspec": {
   "display_name": "Python 3 (ipykernel)",
   "language": "python",
   "name": "python3"
  },
  "language_info": {
   "codemirror_mode": {
    "name": "ipython",
    "version": 3
   },
   "file_extension": ".py",
   "mimetype": "text/x-python",
   "name": "python",
   "nbconvert_exporter": "python",
   "pygments_lexer": "ipython3",
   "version": "3.9.12"
  }
 },
 "nbformat": 4,
 "nbformat_minor": 5
}
